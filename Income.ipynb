{
 "cells": [
  {
   "cell_type": "code",
   "execution_count": 43,
   "metadata": {},
   "outputs": [],
   "source": [
    "import pandas as pd\n",
    "from sklearn.ensemble import RandomForestClassifier\n",
    "from sklearn import tree\n",
    "from sklearn.model_selection import train_test_split\n",
    "import numpy as np"
   ]
  },
  {
   "cell_type": "code",
   "execution_count": 35,
   "metadata": {},
   "outputs": [],
   "source": [
    "income = pd.read_csv(\"income.csv\", delimiter = \", \", engine='python')\n",
    "income.columns = ['age', 'workclass', 'fnlwgt', 'education', 'education-num',\n",
    "       'marital-status', 'occupation', 'relationship', 'race', 'sex',\n",
    "       'capital-gain', 'capital-loss', 'hours-per-week', 'native-country',\n",
    "       'income']\n"
   ]
  },
  {
   "cell_type": "code",
   "execution_count": 36,
   "metadata": {},
   "outputs": [
    {
     "name": "stdout",
     "output_type": "stream",
     "text": [
      "   age         workclass  fnlwgt  education  education-num  \\\n",
      "0   50  Self-emp-not-inc   83311  Bachelors             13   \n",
      "1   38           Private  215646    HS-grad              9   \n",
      "2   53           Private  234721       11th              7   \n",
      "3   28           Private  338409  Bachelors             13   \n",
      "4   37           Private  284582    Masters             14   \n",
      "\n",
      "       marital-status         occupation   relationship   race     sex  \\\n",
      "0  Married-civ-spouse    Exec-managerial        Husband  White    Male   \n",
      "1            Divorced  Handlers-cleaners  Not-in-family  White    Male   \n",
      "2  Married-civ-spouse  Handlers-cleaners        Husband  Black    Male   \n",
      "3  Married-civ-spouse     Prof-specialty           Wife  Black  Female   \n",
      "4  Married-civ-spouse    Exec-managerial           Wife  White  Female   \n",
      "\n",
      "   capital-gain  capital-loss  hours-per-week native-country income  sex_int  \\\n",
      "0             0             0              13  United-States  <=50K        0   \n",
      "1             0             0              40  United-States  <=50K        0   \n",
      "2             0             0              40  United-States  <=50K        0   \n",
      "3             0             0              40           Cuba  <=50K        1   \n",
      "4             0             0              40  United-States  <=50K        1   \n",
      "\n",
      "   native-country_int  \n",
      "0                   0  \n",
      "1                   0  \n",
      "2                   0  \n",
      "3                   1  \n",
      "4                   0  \n"
     ]
    }
   ],
   "source": [
    "income[\"sex_int\"] = income[\"sex\"].apply(lambda row: 0 if row == \"Male\" else 1)\n",
    "income[\"native-country_int\"] = income[\"native-country\"].apply(lambda row:0 if row ==\"United-States\" else 1)\n",
    "print(income.head())"
   ]
  },
  {
   "cell_type": "code",
   "execution_count": 37,
   "metadata": {},
   "outputs": [],
   "source": [
    "data = income[['age',  'fnlwgt',  'education-num',\n",
    "        'sex_int',\n",
    "       'capital-gain', 'capital-loss', 'hours-per-week', 'native-country_int']]\n",
    "labels = income[\"income\"]"
   ]
  },
  {
   "cell_type": "code",
   "execution_count": 38,
   "metadata": {},
   "outputs": [],
   "source": [
    "train_data, test_data, train_labels, test_labels = train_test_split(data, labels, random_state = 1)"
   ]
  },
  {
   "cell_type": "code",
   "execution_count": 39,
   "metadata": {},
   "outputs": [
    {
     "name": "stdout",
     "output_type": "stream",
     "text": [
      "0.9990990990990991\n"
     ]
    }
   ],
   "source": [
    "classifier = RandomForestClassifier(random_state = 1)\n",
    "classifier.fit(train_data, train_labels)\n",
    "score = classifier.score(train_data, train_labels)\n",
    "print(score)\n"
   ]
  },
  {
   "cell_type": "code",
   "execution_count": 48,
   "metadata": {},
   "outputs": [
    {
     "name": "stdout",
     "output_type": "stream",
     "text": [
      "['<=50K']\n"
     ]
    }
   ],
   "source": [
    "Emma = np.array([30, 338409, 14, 1, 0,0, 40,0])\n",
    "Emma = Emma.reshape(-1,8)\n",
    "print(classifier.predict(Emma))"
   ]
  },
  {
   "cell_type": "code",
   "execution_count": null,
   "metadata": {},
   "outputs": [],
   "source": []
  },
  {
   "cell_type": "code",
   "execution_count": null,
   "metadata": {},
   "outputs": [],
   "source": []
  },
  {
   "cell_type": "code",
   "execution_count": null,
   "metadata": {},
   "outputs": [],
   "source": []
  },
  {
   "cell_type": "code",
   "execution_count": null,
   "metadata": {},
   "outputs": [],
   "source": []
  }
 ],
 "metadata": {
  "kernelspec": {
   "display_name": "Python 3",
   "language": "python",
   "name": "python3"
  },
  "language_info": {
   "codemirror_mode": {
    "name": "ipython",
    "version": 3
   },
   "file_extension": ".py",
   "mimetype": "text/x-python",
   "name": "python",
   "nbconvert_exporter": "python",
   "pygments_lexer": "ipython3",
   "version": "3.8.3"
  }
 },
 "nbformat": 4,
 "nbformat_minor": 4
}
